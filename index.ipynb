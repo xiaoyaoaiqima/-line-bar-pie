{
 "cells": [
  {
   "cell_type": "code",
   "execution_count": null,
   "metadata": {},
   "outputs": [],
   "source": [
    "import pandas as pd\n",
    "import pycountry\n",
    "\n",
    "# 读取CSV文件\n",
    "df = pd.read_csv('data.csv')\n",
    "\n",
    "# 定义函数进行isoNo转换\n",
    "def iso3_to_isoNo(iso3_code):\n",
    "    try:\n",
    "        country = pycountry.countries.get(alpha_3=iso3_code)\n",
    "        isoNo_code = country.numeric\n",
    "        return isoNo_code\n",
    "    except:\n",
    "        return None\n",
    "\n",
    "# 将Code列中的iso3值转换为isoNo值\n",
    "df['Code_isNo'] = df['Code'].apply(iso3_to_isoNo)\n",
    "\n",
    "# 保存转换后的数据到新的CSV文件\n",
    "df.to_csv('data.csv', index=False)\n"
   ]
  },
  {
   "cell_type": "code",
   "execution_count": 2,
   "metadata": {},
   "outputs": [
    {
     "name": "stdout",
     "output_type": "stream",
     "text": [
      "已删除Code列为空的数据，并保存为output.csv\n"
     ]
    }
   ],
   "source": [
    "import pandas as pd\n",
    "\n",
    "# 读取CSV文件\n",
    "df = pd.read_csv('data.csv')\n",
    "\n",
    "# 根据Code列为空进行筛选\n",
    "df = df[df['Code'].notnull()]\n",
    "\n",
    "# 保存筛选后的结果到新的CSV文件\n",
    "df.to_csv('data.csv', index=False)\n",
    "\n",
    "# 提示保存成功\n",
    "print(\"已删除Code列为空的数据，并保存为output.csv\")"
   ]
  },
  {
   "cell_type": "code",
   "execution_count": 4,
   "metadata": {},
   "outputs": [],
   "source": [
    "import pandas as pd\n",
    "\n",
    "# 读取CSV文件\n",
    "df = pd.read_csv('data.csv')\n",
    "\n",
    "unique_entities = df['Entity'].unique()[:8]\n",
    "df_filtered = df[df['Entity'].isin(unique_entities)]\n",
    "\n",
    "# 根据Year列的数据排序\n",
    "df_filtered = df_filtered.sort_values(by='Year')\n",
    "\n",
    "df_filtered.to_csv('data8.csv', index=False)"
   ]
  },
  {
   "cell_type": "code",
   "execution_count": 5,
   "metadata": {},
   "outputs": [
    {
     "name": "stdout",
     "output_type": "stream",
     "text": [
      "成功筛选并保存2013到2021年之间的数据到output.csv\n"
     ]
    }
   ],
   "source": [
    "import pandas as pd\n",
    "\n",
    "# 读取CSV文件\n",
    "df = pd.read_csv('data8.csv')\n",
    "\n",
    "# 将Year列转换为整数类型\n",
    "df['Year'] = pd.to_numeric(df['Year'], errors='coerce')\n",
    "\n",
    "# 条件筛选，选取2013到2021之间的数据\n",
    "df_filtered = df[(df['Year'].notnull()) & (df['Year'] >= 2013) & (df['Year'] <= 2021)]\n",
    "\n",
    "# 保存筛选后的结果到新的CSV文件\n",
    "df_filtered.to_csv('data8.csv', index=False)\n",
    "\n",
    "# 提示保存成功\n",
    "print(\"成功筛选并保存2013到2021年之间的数据到output.csv\")"
   ]
  },
  {
   "cell_type": "code",
   "execution_count": 14,
   "metadata": {},
   "outputs": [
    {
     "name": "stdout",
     "output_type": "stream",
     "text": [
      "成功筛选并保存2013到2021年之间的数据到output.csv\n"
     ]
    }
   ],
   "source": [
    "# 筛选2021\n",
    "\n",
    "import pandas as pd\n",
    "\n",
    "# 读取CSV文件\n",
    "df = pd.read_csv('data.csv')\n",
    "\n",
    "# 将Year列转换为整数类型\n",
    "df['Year'] = pd.to_numeric(df['Year'], errors='coerce')\n",
    "\n",
    "# 条件筛选，选取2013到2021之间的数据\n",
    "df_filtered = df[(df['Year'] == 2021)&(df['Annual-change-in-primary-energy-consumption'] > 0)]\n",
    "\n",
    "df_sorted = df_filtered.sort_values(by='Annual-change-in-primary-energy-consumption')\n",
    "\n",
    "# 保存筛选后的结果到新的CSV文件\n",
    "df_sorted.to_csv('data2021.csv', index=False)\n",
    "\n",
    "# 提示保存成功\n",
    "print(\"成功筛选并保存2013到2021年之间的数据到output.csv\")"
   ]
  }
 ],
 "metadata": {
  "kernelspec": {
   "display_name": "Python 3",
   "language": "python",
   "name": "python3"
  },
  "language_info": {
   "codemirror_mode": {
    "name": "ipython",
    "version": 3
   },
   "file_extension": ".py",
   "mimetype": "text/x-python",
   "name": "python",
   "nbconvert_exporter": "python",
   "pygments_lexer": "ipython3",
   "version": "3.12.0"
  }
 },
 "nbformat": 4,
 "nbformat_minor": 2
}
